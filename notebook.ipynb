{
 "cells": [
  {
   "cell_type": "markdown",
   "id": "2f1fa4a5",
   "metadata": {},
   "source": [
    "# Rubik's Cube Solver using Graph Theory and A* Search\n",
    "\n",
    "- This notebook implements a simplified 3x3 Rubik's Cube solver. \n",
    "- It demonstrates how to represent the cube in code, apply moves, scramble it, and solve it using A* search guided by a basic heuristic. \n",
    "- Visualizations of the cube states before and after solving are also included.\n",
    "\n",
    "---"
   ]
  },
  {
   "cell_type": "markdown",
   "id": "f84ac472",
   "metadata": {},
   "source": [
    "## Libraries\n",
    "- `pip install networkx matplotlib` to install libraries"
   ]
  },
  {
   "cell_type": "code",
   "execution_count": 50,
   "id": "e8178ba9",
   "metadata": {},
   "outputs": [],
   "source": [
    "import copy\n",
    "import networkx as nx\n",
    "import matplotlib.pyplot as plt\n",
    "import matplotlib.animation as animation\n",
    "import random\n",
    "import heapq"
   ]
  },
  {
   "cell_type": "markdown",
   "id": "6881e414",
   "metadata": {},
   "source": [
    "## Constants and Move Mapping"
   ]
  },
  {
   "cell_type": "code",
   "execution_count": 51,
   "id": "087b4add",
   "metadata": {},
   "outputs": [],
   "source": [
    "# Define Rubik's Cube faces and colors\n",
    "colors = ['W', 'Y', 'G', 'B', 'O', 'R']  # White, Yellow, Green, Blue, Orange, Red\n",
    "faces = ['U', 'D', 'F', 'B', 'L', 'R'] # Up, Down, Front, Back, Left, Right\n",
    "\n",
    "\n",
    "# Mapping each face rotation to the adjacent faces and corresponding edges that are affected\n",
    "move_map = {\n",
    "    'U': [('B', 0), ('R', 0), ('F', 0), ('L', 0)],\n",
    "    'D': [('F', 2), ('R', 2), ('B', 2), ('L', 2)],\n",
    "    'F': [('U', 2), ('R', 'col0'), ('D', 0), ('L', 'col2')],\n",
    "    'B': [('U', 0), ('L', 'col0'), ('D', 2), ('R', 'col2')],\n",
    "    'L': [('U', 'col0'), ('F', 'col0'), ('D', 'col0'), ('B', 'col2')],\n",
    "    'R': [('U', 'col2'), ('B', 'col0'), ('D', 'col2'), ('F', 'col2')]\n",
    "}"
   ]
  },
  {
   "cell_type": "markdown",
   "id": "23dbc0d8",
   "metadata": {},
   "source": [
    "## Cube Creation and Rotation Helpers"
   ]
  },
  {
   "cell_type": "code",
   "execution_count": 52,
   "id": "a45091ff",
   "metadata": {},
   "outputs": [],
   "source": [
    "# Creates a solved Rubik's cube with each face having the same color\n",
    "def create_solved_cube():\n",
    "    return {face: [[color]*3 for _ in range(3)] for face, color in zip(faces, colors)}\n",
    "\n",
    "# Rotates a 3x3 face 90 degrees clockwise\n",
    "def rotate_face_cw(face):\n",
    "    return [list(row) for row in zip(*face[::-1])]\n",
    "\n",
    "# Rotates a 3x3 face 90 degrees counter-clockwise\n",
    "def rotate_face_ccw(face):\n",
    "    return [list(row) for row in zip(*face)][::-1]"
   ]
  },
  {
   "cell_type": "markdown",
   "id": "c554ea29",
   "metadata": {},
   "source": [
    "## Row and Column Getters and Setters"
   ]
  },
  {
   "cell_type": "code",
   "execution_count": 53,
   "id": "6bd3bc36",
   "metadata": {},
   "outputs": [],
   "source": [
    "# Returns a specific row from a face\n",
    "def get_row(face, idx):\n",
    "    return face[idx][:]\n",
    "\n",
    "# Sets a specific row on a face\n",
    "def set_row(face, idx, row):\n",
    "    face[idx] = row[:]\n",
    "\n",
    "# Returns a specific column from a face\n",
    "def get_col(face, idx):\n",
    "    return [row[idx] for row in face]\n",
    "\n",
    "# Sets a specific column on a face\n",
    "def set_col(face, idx, col):\n",
    "    for i in range(3):\n",
    "        face[i][idx] = col[i]"
   ]
  },
  {
   "cell_type": "markdown",
   "id": "77edd093",
   "metadata": {},
   "source": [
    "## Move Application"
   ]
  },
  {
   "cell_type": "code",
   "execution_count": 54,
   "id": "543daccd",
   "metadata": {},
   "outputs": [],
   "source": [
    "# Applies a single move to the cube (e.g., 'U', 'U'', 'R', etc.)\n",
    "def apply_move(cube, move):\n",
    "    face = move[0]\n",
    "    direction = 1 if len(move) == 1 else -1  # 1 = clockwise, -1 = counter-clockwise\n",
    "\n",
    "    # Rotate the face itself\n",
    "    cube[face] = rotate_face_cw(cube[face]) if direction == 1 else rotate_face_ccw(cube[face])\n",
    "\n",
    "    # Determine the affected edges\n",
    "    adj = move_map[face]\n",
    "    if direction == -1:\n",
    "        adj = adj[::-1]\n",
    "\n",
    "    # Extract the edges from adjacent faces\n",
    "    edges = []\n",
    "    for side, idx in adj:\n",
    "        if isinstance(idx, int):  # It's a row\n",
    "            edges.append(get_row(cube[side], idx))\n",
    "        else:  # It's a column\n",
    "            col_idx = int(idx[-1])\n",
    "            edges.append(get_col(cube[side], col_idx))\n",
    "\n",
    "    # Rotate the edges (shifted by one)\n",
    "    edges = [edges[-1]] + edges[:-1]\n",
    "\n",
    "    # Place the rotated edges back\n",
    "    for (side, idx), edge in zip(adj, edges):\n",
    "        if isinstance(idx, int):\n",
    "            set_row(cube[side], idx, edge)\n",
    "        else:\n",
    "            col_idx = int(idx[-1])\n",
    "            set_col(cube[side], col_idx, edge)"
   ]
  },
  {
   "cell_type": "markdown",
   "id": "03a26138",
   "metadata": {},
   "source": [
    "## Scramble Generator"
   ]
  },
  {
   "cell_type": "code",
   "execution_count": 55,
   "id": "930ff04c",
   "metadata": {},
   "outputs": [],
   "source": [
    "# Applies a series of random moves to scramble the cube\n",
    "def random_scramble(cube, moves=10):\n",
    "    move_list = ['U', \"U'\", 'D', \"D'\", 'F', \"F'\", 'B', \"B'\", 'L', \"L'\", 'R', \"R'\"]\n",
    "    scramble_seq = random.choices(move_list, k=moves)\n",
    "    states = [copy.deepcopy(cube)]\n",
    "    for move in scramble_seq:\n",
    "        new_state = copy.deepcopy(states[-1])\n",
    "        apply_move(new_state, move)\n",
    "        states.append(new_state)\n",
    "    return states, scramble_seq"
   ]
  },
  {
   "cell_type": "markdown",
   "id": "e09ffe0c",
   "metadata": {},
   "source": [
    "## State Visualizer"
   ]
  },
  {
   "cell_type": "code",
   "execution_count": 56,
   "id": "0072153e",
   "metadata": {},
   "outputs": [],
   "source": [
    "# Draws the cube in a 2D layout using matplotlib\n",
    "def visualize_cube_state(cube, title='Cube State', ax=None):\n",
    "    # Layout positions for each face on a 2D grid\n",
    "    face_coords = {\n",
    "        'U': (3, 6), 'L': (0, 3), 'F': (3, 3),\n",
    "        'R': (6, 3), 'B': (9, 3), 'D': (3, 0)\n",
    "    }\n",
    "    color_lookup = {\n",
    "        'W': 'lightgray', # Used gray instead of white to better identify\n",
    "        'Y': 'yellow',\n",
    "        'G': 'green',\n",
    "        'B': 'blue',\n",
    "        'O': 'orange',\n",
    "        'R': 'red'\n",
    "    }\n",
    "    if ax is None:\n",
    "        fig, ax = plt.subplots()\n",
    "    ax.clear()\n",
    "\n",
    "    # Draw each square of the cube face\n",
    "    for face, (x_offset, y_offset) in face_coords.items():\n",
    "        face_grid = cube[face]\n",
    "        for i in range(3):\n",
    "            for j in range(3):\n",
    "                color = color_lookup[face_grid[i][j]]\n",
    "                ax.add_patch(plt.Rectangle(\n",
    "                    (x_offset + j, y_offset + 2 - i), 1, 1, facecolor=color))\n",
    "    ax.set_xlim(0, 12)\n",
    "    ax.set_ylim(0, 9)\n",
    "    ax.set_aspect('equal')\n",
    "    ax.set_title(title)\n",
    "    ax.axis('off')"
   ]
  },
  {
   "cell_type": "markdown",
   "id": "a7d392df",
   "metadata": {},
   "source": [
    "## Animation"
   ]
  },
  {
   "cell_type": "code",
   "execution_count": 57,
   "id": "0da76564",
   "metadata": {},
   "outputs": [],
   "source": [
    "# Animates a list of cube states as a solution is applied\n",
    "def animate_solution(states, title='Solving Cube'):\n",
    "    fig, ax = plt.subplots()\n",
    "\n",
    "    def update(frame):\n",
    "        visualize_cube_state(states[frame], title=f'{title}: Step {frame}', ax=ax)\n",
    "\n",
    "    ani = animation.FuncAnimation(\n",
    "        fig, update, frames=len(states), repeat=False, interval=500)\n",
    "    plt.show()"
   ]
  },
  {
   "cell_type": "markdown",
   "id": "0c05a480",
   "metadata": {},
   "source": [
    "## Utility Functions"
   ]
  },
  {
   "cell_type": "code",
   "execution_count": null,
   "id": "09774fdb",
   "metadata": {},
   "outputs": [],
   "source": [
    "# Checks if the cube is in a solved state\n",
    "def is_solved(cube):\n",
    "    for face in cube:\n",
    "        center = cube[face][1][1]\n",
    "        for row in cube[face]:\n",
    "            for color in row:\n",
    "                if color != center:\n",
    "                    return False\n",
    "    return True\n",
    "\n",
    "# Heuristic function for A* search — counts how many stickers are not the same as the center color of their face\n",
    "def heuristic(cube):\n",
    "    score = 0\n",
    "    for face in cube:\n",
    "        center = cube[face][1][1]\n",
    "        for row in cube[face]:\n",
    "            for color in row:\n",
    "                if color != center:\n",
    "                    score += 1\n",
    "    return score\n",
    "\n",
    "# Applies a sequence of moves to the cube and returns all intermediate states\n",
    "def apply_sequence(cube, sequence):\n",
    "    states = [copy.deepcopy(cube)]\n",
    "    for move in sequence:\n",
    "        apply_move(cube, move)\n",
    "        states.append(copy.deepcopy(cube))\n",
    "    return states\n"
   ]
  },
  {
   "cell_type": "markdown",
   "id": "fa31226e",
   "metadata": {},
   "source": [
    "## A* Search Algorithm"
   ]
  },
  {
   "cell_type": "code",
   "execution_count": null,
   "id": "1f16fd72",
   "metadata": {},
   "outputs": [],
   "source": [
    "# Solves the scrambled cube using A* search\n",
    "def a_star_solver(start_cube):\n",
    "    move_list = ['U', \"U'\", 'D', \"D'\", 'F', \"F'\", 'B', \"B'\", 'L', \"L'\", 'R', \"R'\"]\n",
    "    visited = set()\n",
    "    queue = []\n",
    "    counter = 0\n",
    "\n",
    "    # Push initial state into priority queue (min-heap): (estimated_total_cost, current_cost, counter, cube, path)\n",
    "    heapq.heappush(queue, (0, 0, counter, start_cube, []))\n",
    "\n",
    "    while queue:\n",
    "        _, cost, _, current, path = heapq.heappop(queue)\n",
    "        cube_id = str(current)  # Serialize cube for visited set\n",
    "\n",
    "        if cube_id in visited:\n",
    "            continue\n",
    "        visited.add(cube_id)\n",
    "\n",
    "        if is_solved(current):\n",
    "            return path  # Return the solution path\n",
    "\n",
    "        for move in move_list:\n",
    "            new_cube = copy.deepcopy(current)\n",
    "            apply_move(new_cube, move)\n",
    "            if str(new_cube) not in visited:\n",
    "                new_path = path + [move]\n",
    "                est_cost = cost + 1 + heuristic(new_cube)\n",
    "                counter += 1\n",
    "                heapq.heappush(queue, (est_cost, cost + 1, counter, new_cube, new_path))\n",
    "    return []"
   ]
  },
  {
   "cell_type": "code",
   "execution_count": null,
   "id": "fc23f8e0",
   "metadata": {},
   "outputs": [],
   "source": [
    "def a_star_solver(start_cube):\n",
    "    move_list = ['U', \"U'\", 'D', \"D'\", 'F', \"F'\", 'B', \"B'\", 'L', \"L'\", 'R', \"R'\"]\n",
    "    visited = set()\n",
    "    queue = []\n",
    "    counter = 0\n",
    "    heapq.heappush(queue, (0, 0, counter, start_cube, []))\n",
    "\n",
    "    while queue:\n",
    "        _, cost, _, current, path = heapq.heappop(queue)\n",
    "        cube_id = str(current)\n",
    "        \n",
    "        # Print the cost of the current move\n",
    "        print(f\"Current state cost: {cost} (Move count so far)\")\n",
    "\n",
    "        if cube_id in visited:\n",
    "            continue\n",
    "        visited.add(cube_id)\n",
    "        \n",
    "        # Check if the goal state (solved) is reached\n",
    "        if is_solved(current):\n",
    "            print(f\"Goal reached with path: {path}\")\n",
    "            return path\n",
    "        \n",
    "        # Explore all possible moves\n",
    "        for move in move_list:\n",
    "            new_cube = copy.deepcopy(current)\n",
    "            apply_move(new_cube, move)\n",
    "            \n",
    "            if str(new_cube) not in visited:\n",
    "                new_path = path + [move]\n",
    "                est_cost = cost + 1 + heuristic(new_cube)\n",
    "                counter += 1\n",
    "                # Print the move and its resulting cost\n",
    "                print(f\"Applying move: {move}\")\n",
    "                print(f\"New cost after move: {cost + 1}\")\n",
    "                heapq.heappush(queue, (est_cost, cost + 1, counter, new_cube, new_path))\n",
    "                \n",
    "    return []"
   ]
  },
  {
   "cell_type": "markdown",
   "id": "dd7592ce",
   "metadata": {},
   "source": [
    "## Main Execution"
   ]
  },
  {
   "cell_type": "code",
   "execution_count": 60,
   "id": "28fe458e",
   "metadata": {},
   "outputs": [
    {
     "name": "stdout",
     "output_type": "stream",
     "text": [
      "Scramble sequence: [\"L'\", \"D'\", 'U', \"B'\", 'U']\n",
      "Solution sequence: [\"U'\", 'B', \"U'\", 'D', 'L']\n"
     ]
    },
    {
     "data": {
      "image/png": "[encoded data removed]",
      "text/plain": [
       "<Figure size 640x480 with 1 Axes>"
      ]
     },
     "metadata": {},
     "output_type": "display_data"
    },
    {
     "data": {
      "image/png": "[encoded data removed]",
      "text/plain": [
       "<Figure size 640x480 with 1 Axes>"
      ]
     },
     "metadata": {},
     "output_type": "display_data"
    },
    {
     "data": {
      "image/png": "[encoded data removed]",
      "text/plain": [
       "<Figure size 640x480 with 1 Axes>"
      ]
     },
     "metadata": {},
     "output_type": "display_data"
    }
   ],
   "source": [
    "# Initialize the cube / start with the solved state\n",
    "cube = create_solved_cube()\n",
    "\n",
    "# Scramble the cube randomly\n",
    "states, scramble_seq = random_scramble(cube, moves=5)\n",
    "scrambled = copy.deepcopy(states[-1])\n",
    "print(\"Scramble sequence:\", scramble_seq)\n",
    "\n",
    "# Visualize both states\n",
    "visualize_cube_state(states[0], title='Solved State') # Shows the initial solved cube\n",
    "visualize_cube_state(scrambled, title='Scrambled State') # Shows the scrambled state\n",
    "\n",
    "# Solve the scrambled cube using A* algorithm\n",
    "solution_seq = a_star_solver(copy.deepcopy(scrambled))\n",
    "print(\"Solution sequence:\", solution_seq)\n",
    "\n",
    "# Apply the solution sequence to the scrambled cube to generate the solving steps\n",
    "solve_states = apply_sequence(scrambled, solution_seq)\n",
    "\n",
    "# Animate the solving process, step-by-step\n",
    "animate_solution(solve_states, title='Solving with A* Search')\n"
   ]
  },
  {
   "cell_type": "markdown",
   "id": "ade35218",
   "metadata": {},
   "source": [
    "---\n",
    "## Overview: How Graph Theory is Used in the Rubik's Cube Solver\n",
    "\n",
    "### 1. Cube States as Graph Nodes\n",
    "\n",
    "Each **unique configuration** of the Rubik's Cube is treated as a **node (vertex)** in a graph.\n",
    "\n",
    "- A solved cube is one node.\n",
    "- A scrambled cube is another.\n",
    "- Any configuration reachable via legal moves is another node.\n",
    "\n",
    "**The entire state space of the Rubik's Cube forms a large directed graph:**\n",
    "- **Nodes** = cube configurations (states)\n",
    "- **Edges** = legal moves (e.g., `U`, `F'`, `R`)\n",
    "\n",
    "### 2. Moves as Directed Edges\n",
    "\n",
    "Each **legal move** on the cube (e.g., rotating the front face clockwise) is considered a **directed edge** from one state to another.\n",
    "\n",
    "- For example: applying \"F\" to state A results in state B  \n",
    "  → this creates a **directed edge A → B labeled \"F\"**.\n",
    "\n",
    "Since some moves may not return to the exact previous state (without explicit reversal), this graph is **directed**.\n",
    "\n",
    "### 3. A* Search as Graph Traversal\n",
    "\n",
    "The **A\\* search algorithm** is a classic **graph traversal** technique that finds the **shortest path** from a scrambled cube to the solved state.\n",
    "\n",
    "- Uses actual cost `g(n)` = number of moves so far.\n",
    "- Uses heuristic `h(n)` = estimated cost to goal (based on misplaced stickers).\n",
    "- Evaluates nodes by `f(n) = g(n) + h(n)` using a **priority queue (heap)**.\n",
    "\n",
    "It efficiently searches through the Rubik’s cube’s **state-space graph**.\n",
    "\n",
    "### 4. Optional Visualization with NetworkX\n",
    "\n",
    "The function `build_state_graph()` (optional) uses **NetworkX** to explicitly construct a directed graph:\n",
    "\n",
    "- Each node = a state of the cube.\n",
    "- Each edge = a move between states.\n",
    "- This is useful for **visualizing** the scrambling or solving path, not necessary for solving.\n",
    "\n",
    "### Summary Table\n",
    "\n",
    "| Graph Theory Concept | Rubik's Cube Equivalent             |\n",
    "|----------------------|-------------------------------------|\n",
    "| Node                 | A cube state (configuration)        |\n",
    "| Edge                 | A move (e.g., U, R', F)             |\n",
    "| Path                 | A sequence of moves                 |\n",
    "| Goal Node            | The solved cube state               |\n",
    "| Search Algorithm     | A* (shortest path finder)           |"
   ]
  }
 ],
 "metadata": {
  "kernelspec": {
   "display_name": "dl",
   "language": "python",
   "name": "python3"
  },
  "language_info": {
   "name": "python",
   "version": "3.9.18"
  }
 },
 "nbformat": 4,
 "nbformat_minor": 5
}
